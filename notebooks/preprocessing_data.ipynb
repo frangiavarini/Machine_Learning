{
 "cells": [
  {
   "cell_type": "markdown",
   "metadata": {},
   "source": [
    "# Pre-Procesamiento de datos"
   ]
  },
  {
   "cell_type": "code",
   "execution_count": 149,
   "metadata": {},
   "outputs": [],
   "source": [
    "import numpy as np\n",
    "import pandas as pd"
   ]
  },
  {
   "cell_type": "markdown",
   "metadata": {},
   "source": [
    "#EXPLICACION DE QUE VOY A AHCER"
   ]
  },
  {
   "cell_type": "code",
   "execution_count": 150,
   "metadata": {},
   "outputs": [],
   "source": [
    "standard_cols = [\n",
    "    'id_recorrido', 'duracion_recorrido', 'fecha_origen_recorrido',\n",
    "    'id_estacion_origen', 'nombre_estacion_origen', 'direccion_estacion_origen',\n",
    "    'long_estacion_origen', 'lat_estacion_origen',\n",
    "    'fecha_destino_recorrido', 'id_estacion_destino', 'nombre_estacion_destino',\n",
    "    'direccion_estacion_destino', 'long_estacion_destino', 'lat_estacion_destino',\n",
    "    'id_usuario', 'modelo_bicicleta', 'genero'\n",
    "]"
   ]
  },
  {
   "cell_type": "markdown",
   "metadata": {},
   "source": [
    "## 1) Dataset Trips 2020"
   ]
  },
  {
   "cell_type": "code",
   "execution_count": 151,
   "metadata": {},
   "outputs": [],
   "source": [
    "df_trips_2020 = pd.read_csv('../data/raw/recorridos/trips_2020.csv')"
   ]
  },
  {
   "cell_type": "code",
   "execution_count": 152,
   "metadata": {},
   "outputs": [
    {
     "name": "stdout",
     "output_type": "stream",
     "text": [
      "Tamaño del dataset original: (2415597, 18)\n",
      "Features del archivo:\n",
      "['Unnamed: 0', 'Id_recorrido', 'duracion_recorrido', 'fecha_origen_recorrido', 'id_estacion_origen', 'nombre_estacion_origen', 'direccion_estacion_origen', 'long_estacion_origen', 'lat_estacion_origen', 'fecha_destino_recorrido', 'id_estacion_destino', 'nombre_estacion_destino', 'direccion_estacion_destino', 'long_estacion_destino', 'lat_estacion_destino', 'id_usuario', 'modelo_bicicleta', 'género']\n"
     ]
    }
   ],
   "source": [
    "print(f'Tamaño del dataset original: {df_trips_2020.shape}')\n",
    "print(\"Features del archivo:\")\n",
    "print(df_trips_2020.columns.tolist())"
   ]
  },
  {
   "cell_type": "code",
   "execution_count": 153,
   "metadata": {},
   "outputs": [],
   "source": [
    "# Renombrar columnas para que coincidan con el formato estándar\n",
    "df_trips_2020 = df_trips_2020.rename(columns={\n",
    "    'Id_recorrido': 'id_recorrido',\n",
    "    'género': 'genero'\n",
    "})\n",
    "\n",
    "# Eliminar columnas basura\n",
    "df_trips_2020 = df_trips_2020.drop(columns=['Unnamed: 0', 'X'], errors='ignore')"
   ]
  },
  {
   "cell_type": "code",
   "execution_count": 154,
   "metadata": {},
   "outputs": [
    {
     "name": "stdout",
     "output_type": "stream",
     "text": [
      "Columnas reordenadas correctamente.\n"
     ]
    }
   ],
   "source": [
    "missing_cols = [col for col in standard_cols if col not in df_trips_2021.columns]\n",
    "if missing_cols:\n",
    "    print(\"Faltan las siguientes columnas:\", missing_cols)\n",
    "else:\n",
    "    df_trips_2020 = df_trips_2020[standard_cols]\n",
    "    print(\"Columnas reordenadas correctamente.\")"
   ]
  },
  {
   "cell_type": "markdown",
   "metadata": {},
   "source": [
    "1.1) Saco las comas en \"duracion_recorrido\""
   ]
  },
  {
   "cell_type": "code",
   "execution_count": 155,
   "metadata": {},
   "outputs": [],
   "source": [
    "df_trips_2020['duracion_recorrido'] = df_trips_2020['duracion_recorrido'].str.replace(',', '', regex=False)\n",
    "df_trips_2020['duracion_recorrido'] = pd.to_numeric(df_trips_2020['duracion_recorrido'], errors='coerce')"
   ]
  },
  {
   "cell_type": "markdown",
   "metadata": {},
   "source": [
    "1.2) Extraigo solo números de IDs y convertir a enteros"
   ]
  },
  {
   "cell_type": "code",
   "execution_count": 156,
   "metadata": {},
   "outputs": [],
   "source": [
    "for col in ['id_recorrido', 'id_usuario', 'id_estacion_origen', 'id_estacion_destino']:\n",
    "    df_trips_2020[col] = df_trips_2020[col].str.extract(r'(\\d+)')[0].astype('Int64')"
   ]
  },
  {
   "cell_type": "markdown",
   "metadata": {},
   "source": [
    "1.3) Convierto fechas a datetime"
   ]
  },
  {
   "cell_type": "code",
   "execution_count": 157,
   "metadata": {},
   "outputs": [],
   "source": [
    "df_trips_2020['fecha_origen_recorrido'] = pd.to_datetime(df_trips_2020['fecha_origen_recorrido'], errors='coerce')\n",
    "df_trips_2020['fecha_destino_recorrido'] = pd.to_datetime(df_trips_2020['fecha_destino_recorrido'], errors='coerce')"
   ]
  },
  {
   "cell_type": "markdown",
   "metadata": {},
   "source": [
    "1.4) Arreglo latitud y longitud destino, las separo"
   ]
  },
  {
   "cell_type": "code",
   "execution_count": 158,
   "metadata": {},
   "outputs": [],
   "source": [
    "coords_split = df_trips_2020['lat_estacion_destino'].str.split(',', expand=True)\n",
    "\n",
    "df_trips_2020['lat_estacion_destino'] = pd.to_numeric(coords_split[0], errors='coerce')\n",
    "df_trips_2020['long_estacion_destino'] = pd.to_numeric(coords_split[1], errors='coerce')"
   ]
  },
  {
   "cell_type": "code",
   "execution_count": 159,
   "metadata": {},
   "outputs": [
    {
     "name": "stdout",
     "output_type": "stream",
     "text": [
      "Archivo guardado exitosamente en data/processed/recorridos/trips_2020.csv\n"
     ]
    }
   ],
   "source": [
    "df_trips_2020.to_csv('../data/processed/recorridos/trips_2020.csv', index=False)\n",
    "print(\"Archivo guardado exitosamente en data/processed/recorridos/trips_2020.csv\")"
   ]
  },
  {
   "cell_type": "markdown",
   "metadata": {},
   "source": [
    "## 2) Dataset Trips 2021"
   ]
  },
  {
   "cell_type": "code",
   "execution_count": 160,
   "metadata": {},
   "outputs": [
    {
     "name": "stderr",
     "output_type": "stream",
     "text": [
      "/var/folders/27/qwsyx_4n4pjc_cljhqtfcjbh0000gn/T/ipykernel_51819/1486298880.py:1: DtypeWarning: Columns (17,18) have mixed types. Specify dtype option on import or set low_memory=False.\n",
      "  df_trips_2021 = pd.read_csv('../data/raw/recorridos/trips_2021.csv')\n"
     ]
    },
    {
     "name": "stdout",
     "output_type": "stream",
     "text": [
      "Tamaño del dataset original: (2860091, 19)\n",
      "Features del archivo:\n",
      "['Unnamed: 0', 'Id_recorrido', 'duracion_recorrido', 'fecha_origen_recorrido', 'id_estacion_origen', 'nombre_estacion_origen', 'direccion_estacion_origen', 'long_estacion_origen', 'lat_estacion_origen', 'fecha_destino_recorrido', 'id_estacion_destino', 'nombre_estacion_destino', 'direccion_estacion_destino', 'long_estacion_destino', 'lat_estacion_destino', 'id_usuario', 'modelo_bicicleta', 'género', 'Género']\n"
     ]
    }
   ],
   "source": [
    "df_trips_2021 = pd.read_csv('../data/raw/recorridos/trips_2021.csv')\n",
    "print(f'Tamaño del dataset original: {df_trips_2021.shape}')\n",
    "print(\"Features del archivo:\")\n",
    "print(df_trips_2021.columns.tolist())"
   ]
  },
  {
   "cell_type": "code",
   "execution_count": 161,
   "metadata": {},
   "outputs": [
    {
     "name": "stdout",
     "output_type": "stream",
     "text": [
      "Columnas después de limpiar:\n",
      "['id_recorrido', 'duracion_recorrido', 'fecha_origen_recorrido', 'id_estacion_origen', 'nombre_estacion_origen', 'direccion_estacion_origen', 'long_estacion_origen', 'lat_estacion_origen', 'fecha_destino_recorrido', 'id_estacion_destino', 'nombre_estacion_destino', 'direccion_estacion_destino', 'long_estacion_destino', 'lat_estacion_destino', 'id_usuario', 'modelo_bicicleta', 'genero']\n",
      "Columnas reordenadas correctamente.\n"
     ]
    }
   ],
   "source": [
    "# Renombrar columnas para que coincidan con el formato estándar\n",
    "df_trips_2021 = df_trips_2021.rename(columns={\n",
    "    'Id_recorrido': 'id_recorrido',\n",
    "    'género': 'genero'\n",
    "})\n",
    "\n",
    "# Eliminar columnas basura\n",
    "df_trips_2021 = df_trips_2021.drop(columns=['Unnamed: 0', 'Género'], errors='ignore')\n",
    "print(\"Columnas después de limpiar:\")\n",
    "print(df_trips_2021.columns.tolist())\n",
    "\n",
    "missing_cols = [col for col in standard_cols if col not in df_trips_2021.columns]\n",
    "if missing_cols:\n",
    "    print(\"Faltan las siguientes columnas:\", missing_cols)\n",
    "else:\n",
    "    df_trips_2021 = df_trips_2021[standard_cols]\n",
    "    print(\"Columnas reordenadas correctamente.\")"
   ]
  },
  {
   "cell_type": "code",
   "execution_count": 162,
   "metadata": {},
   "outputs": [],
   "source": [
    "df_trips_2021['duracion_recorrido'] = df_trips_2021['duracion_recorrido'].str.replace(',', '', regex=False)\n",
    "df_trips_2021['duracion_recorrido'] = pd.to_numeric(df_trips_2021['duracion_recorrido'], errors='coerce')\n",
    "for col in ['id_recorrido', 'id_usuario', 'id_estacion_origen', 'id_estacion_destino']:\n",
    "    df_trips_2021[col] = df_trips_2021[col].str.extract(r'(\\d+)')[0].astype('Int64')\n",
    "df_trips_2021['fecha_origen_recorrido'] = pd.to_datetime(df_trips_2021['fecha_origen_recorrido'], errors='coerce')\n",
    "df_trips_2021['fecha_destino_recorrido'] = pd.to_datetime(df_trips_2021['fecha_destino_recorrido'], errors='coerce')\n",
    "\n",
    "coords_split = df_trips_2021['lat_estacion_destino'].str.split(',', expand=True)\n",
    "\n",
    "df_trips_2021['lat_estacion_destino'] = pd.to_numeric(coords_split[0], errors='coerce')\n",
    "df_trips_2021['long_estacion_destino'] = pd.to_numeric(coords_split[1], errors='coerce')"
   ]
  },
  {
   "cell_type": "code",
   "execution_count": 163,
   "metadata": {},
   "outputs": [
    {
     "name": "stdout",
     "output_type": "stream",
     "text": [
      "Archivo guardado exitosamente en data/processed/recorridos/trips_2021.csv\n"
     ]
    }
   ],
   "source": [
    "df_trips_2021.to_csv('../data/processed/recorridos/trips_2021.csv', index=False)\n",
    "print(\"Archivo guardado exitosamente en data/processed/recorridos/trips_2021.csv\")"
   ]
  },
  {
   "cell_type": "markdown",
   "metadata": {},
   "source": [
    "## 3) Dataset Trips 2022"
   ]
  },
  {
   "cell_type": "code",
   "execution_count": 174,
   "metadata": {},
   "outputs": [
    {
     "name": "stdout",
     "output_type": "stream",
     "text": [
      "Tamaño del dataset original: (2922805, 19)\n",
      "Features del archivo:\n",
      "['Unnamed: 0', 'X', 'Id_recorrido', 'duracion_recorrido', 'fecha_origen_recorrido', 'id_estacion_origen', 'nombre_estacion_origen', 'direccion_estacion_origen', 'long_estacion_origen', 'lat_estacion_origen', 'fecha_destino_recorrido', 'id_estacion_destino', 'nombre_estacion_destino', 'direccion_estacion_destino', 'long_estacion_destino', 'lat_estacion_destino', 'id_usuario', 'modelo_bicicleta', 'Género']\n"
     ]
    }
   ],
   "source": [
    "df_trips_2022 = pd.read_csv('../data/raw/recorridos/trips_2022.csv')\n",
    "print(f'Tamaño del dataset original: {df_trips_2022.shape}')\n",
    "print(\"Features del archivo:\")\n",
    "print(df_trips_2022.columns.tolist())"
   ]
  },
  {
   "cell_type": "code",
   "execution_count": 175,
   "metadata": {},
   "outputs": [
    {
     "name": "stdout",
     "output_type": "stream",
     "text": [
      "Columnas después de limpiar:\n",
      "['id_recorrido', 'duracion_recorrido', 'fecha_origen_recorrido', 'id_estacion_origen', 'nombre_estacion_origen', 'direccion_estacion_origen', 'long_estacion_origen', 'lat_estacion_origen', 'fecha_destino_recorrido', 'id_estacion_destino', 'nombre_estacion_destino', 'direccion_estacion_destino', 'long_estacion_destino', 'lat_estacion_destino', 'id_usuario', 'modelo_bicicleta', 'genero']\n",
      "Columnas reordenadas correctamente.\n"
     ]
    }
   ],
   "source": [
    "# Renombrar columnas para que coincidan con el formato estándar\n",
    "df_trips_2022 = df_trips_2022.rename(columns={\n",
    "    'Id_recorrido': 'id_recorrido',\n",
    "    'Género': 'genero'\n",
    "})\n",
    "\n",
    "# Eliminar columnas basura\n",
    "df_trips_2022 = df_trips_2022.drop(columns=['Unnamed: 0', 'X'], errors='ignore')\n",
    "print(\"Columnas después de limpiar:\")\n",
    "print(df_trips_2022.columns.tolist())\n",
    "\n",
    "missing_cols = [col for col in standard_cols if col not in df_trips_2022.columns]\n",
    "if missing_cols:\n",
    "    print(\"Faltan las siguientes columnas:\", missing_cols)\n",
    "else:\n",
    "    df_trips_2022 = df_trips_2022[standard_cols]\n",
    "    print(\"Columnas reordenadas correctamente.\")"
   ]
  },
  {
   "cell_type": "code",
   "execution_count": 176,
   "metadata": {},
   "outputs": [],
   "source": [
    "df_trips_2022['duracion_recorrido'] = df_trips_2022['duracion_recorrido'].str.replace(',', '', regex=False)\n",
    "df_trips_2022['duracion_recorrido'] = pd.to_numeric(df_trips_2022['duracion_recorrido'], errors='coerce')\n",
    "for col in ['id_recorrido', 'id_usuario', 'id_estacion_origen', 'id_estacion_destino']:\n",
    "    df_trips_2022[col] = df_trips_2022[col].str.extract(r'(\\d+)')[0].astype('Int64')\n",
    "df_trips_2022['fecha_origen_recorrido'] = pd.to_datetime(df_trips_2022['fecha_origen_recorrido'], errors='coerce')\n",
    "df_trips_2022['fecha_destino_recorrido'] = pd.to_datetime(df_trips_2022['fecha_destino_recorrido'], errors='coerce')"
   ]
  },
  {
   "cell_type": "code",
   "execution_count": 177,
   "metadata": {},
   "outputs": [
    {
     "name": "stdout",
     "output_type": "stream",
     "text": [
      "Archivo guardado exitosamente en data/processed/recorridos/trips_2022.csv\n"
     ]
    }
   ],
   "source": [
    "df_trips_2022.to_csv('../data/processed/recorridos/trips_2022.csv', index=False)\n",
    "print(\"Archivo guardado exitosamente en data/processed/recorridos/trips_2022.csv\")"
   ]
  },
  {
   "cell_type": "markdown",
   "metadata": {},
   "source": [
    "## 4) Dataset Trips 2023"
   ]
  },
  {
   "cell_type": "code",
   "execution_count": 178,
   "metadata": {},
   "outputs": [
    {
     "name": "stdout",
     "output_type": "stream",
     "text": [
      "Tamaño del dataset original: (2622331, 18)\n",
      "Features del archivo:\n",
      "['Unnamed: 0', 'Id_recorrido', 'duracion_recorrido', 'fecha_origen_recorrido', 'id_estacion_origen', 'nombre_estacion_origen', 'direccion_estacion_origen', 'long_estacion_origen', 'lat_estacion_origen', 'fecha_destino_recorrido', 'id_estacion_destino', 'nombre_estacion_destino', 'direccion_estacion_destino', 'long_estacion_destino', 'lat_estacion_destino', 'id_usuario', 'modelo_bicicleta', 'género']\n"
     ]
    }
   ],
   "source": [
    "df_trips_2023 = pd.read_csv('../data/raw/recorridos/trips_2023.csv')\n",
    "print(f'Tamaño del dataset original: {df_trips_2023.shape}')\n",
    "print(\"Features del archivo:\")\n",
    "print(df_trips_2023.columns.tolist())"
   ]
  },
  {
   "cell_type": "code",
   "execution_count": 179,
   "metadata": {},
   "outputs": [
    {
     "name": "stdout",
     "output_type": "stream",
     "text": [
      "Columnas después de limpiar:\n",
      "['id_recorrido', 'duracion_recorrido', 'fecha_origen_recorrido', 'id_estacion_origen', 'nombre_estacion_origen', 'direccion_estacion_origen', 'long_estacion_origen', 'lat_estacion_origen', 'fecha_destino_recorrido', 'id_estacion_destino', 'nombre_estacion_destino', 'direccion_estacion_destino', 'long_estacion_destino', 'lat_estacion_destino', 'id_usuario', 'modelo_bicicleta', 'genero']\n",
      "Columnas reordenadas correctamente.\n"
     ]
    }
   ],
   "source": [
    "df_trips_2023 = df_trips_2023.rename(columns={\n",
    "    'Id_recorrido': 'id_recorrido',\n",
    "    'género': 'genero'\n",
    "})\n",
    "\n",
    "# Eliminar columnas basura\n",
    "df_trips_2023 = df_trips_2023.drop(columns=['Unnamed: 0'], errors='ignore')\n",
    "print(\"Columnas después de limpiar:\")\n",
    "print(df_trips_2023.columns.tolist())\n",
    "\n",
    "missing_cols = [col for col in standard_cols if col not in df_trips_2023.columns]\n",
    "if missing_cols:\n",
    "    print(\"Faltan las siguientes columnas:\", missing_cols)\n",
    "else:\n",
    "    df_trips_2023 = df_trips_2023[standard_cols]\n",
    "    print(\"Columnas reordenadas correctamente.\")"
   ]
  },
  {
   "cell_type": "code",
   "execution_count": 180,
   "metadata": {},
   "outputs": [],
   "source": [
    "df_trips_2023['duracion_recorrido'] = df_trips_2023['duracion_recorrido'].str.replace(',', '', regex=False)\n",
    "df_trips_2023['duracion_recorrido'] = pd.to_numeric(df_trips_2023['duracion_recorrido'], errors='coerce')\n",
    "for col in ['id_recorrido', 'id_usuario', 'id_estacion_origen', 'id_estacion_destino']:\n",
    "    df_trips_2023[col] = df_trips_2023[col].str.extract(r'(\\d+)')[0].astype('Int64')\n",
    "df_trips_2023['fecha_origen_recorrido'] = pd.to_datetime(df_trips_2023['fecha_origen_recorrido'], errors='coerce')\n",
    "df_trips_2023['fecha_destino_recorrido'] = pd.to_datetime(df_trips_2023['fecha_destino_recorrido'], errors='coerce')"
   ]
  },
  {
   "cell_type": "code",
   "execution_count": 182,
   "metadata": {},
   "outputs": [
    {
     "name": "stdout",
     "output_type": "stream",
     "text": [
      "Archivo guardado exitosamente en data/processed/recorridos/trips_2023.csv\n"
     ]
    }
   ],
   "source": [
    "df_trips_2023.to_csv('../data/processed/recorridos/trips_2023.csv', index=False)\n",
    "print(\"Archivo guardado exitosamente en data/processed/recorridos/trips_2023.csv\")"
   ]
  },
  {
   "cell_type": "markdown",
   "metadata": {},
   "source": [
    "## 5) Dataset Trips 2024"
   ]
  },
  {
   "cell_type": "code",
   "execution_count": 164,
   "metadata": {},
   "outputs": [],
   "source": [
    "df_trips_2024 = pd.read_csv('../data/raw/recorridos/trips_2024.csv')"
   ]
  },
  {
   "cell_type": "code",
   "execution_count": 165,
   "metadata": {},
   "outputs": [
    {
     "name": "stdout",
     "output_type": "stream",
     "text": [
      "Tamaño del dataset original: (3559284, 17)\n",
      "Features del archivo:\n",
      "['id_recorrido', 'duracion_recorrido', 'fecha_origen_recorrido', 'id_estacion_origen', 'nombre_estacion_origen', 'direccion_estacion_origen', 'long_estacion_origen', 'lat_estacion_origen', 'fecha_destino_recorrido', 'id_estacion_destino', 'nombre_estacion_destino', 'direccion_estacion_destino', 'long_estacion_destino', 'lat_estacion_destino', 'id_usuario', 'modelo_bicicleta', 'genero']\n"
     ]
    }
   ],
   "source": [
    "print(f'Tamaño del dataset original: {df_trips_2024.shape}')\n",
    "print(\"Features del archivo:\")\n",
    "print(df_trips_2024.columns.tolist())"
   ]
  },
  {
   "cell_type": "code",
   "execution_count": 183,
   "metadata": {},
   "outputs": [
    {
     "name": "stdout",
     "output_type": "stream",
     "text": [
      "Filas restantes luego del filtro: 2155645\n"
     ]
    }
   ],
   "source": [
    "df_trips_2024['fecha_origen_recorrido'] = pd.to_datetime(df_trips_2024['fecha_origen_recorrido'], errors='coerce')\n",
    "# Filtrar: solo fechas hasta agosto 2024 inclusive\n",
    "df_trips_2024 = df_trips_2024[df_trips_2024['fecha_origen_recorrido'].dt.month <= 8]\n",
    "print(f\"Filas restantes luego del filtro: {df_trips_2024.shape[0]}\")"
   ]
  },
  {
   "cell_type": "code",
   "execution_count": 185,
   "metadata": {},
   "outputs": [
    {
     "name": "stdout",
     "output_type": "stream",
     "text": [
      "Archivo guardado exitosamente en data/processed/recorridos/trips_2024.csv\n"
     ]
    }
   ],
   "source": [
    "df_trips_2024.to_csv('../data/processed/recorridos/trips_2024.csv', index=False)\n",
    "print(\"Archivo guardado exitosamente en data/processed/recorridos/trips_2024.csv\")"
   ]
  },
  {
   "cell_type": "markdown",
   "metadata": {},
   "source": [
    "## 1) Dataset Usuarios 2020"
   ]
  },
  {
   "cell_type": "code",
   "execution_count": 208,
   "metadata": {},
   "outputs": [
    {
     "name": "stdout",
     "output_type": "stream",
     "text": [
      "Archivo guardado exitosamente en data/processed/usuarios/usuarios_2020.csv\n"
     ]
    }
   ],
   "source": [
    "df_usuarios_2020 = pd.read_csv('../data/raw/usuarios/usuarios_ecobici_2020.csv')\n",
    "df_usuarios_2020.drop(columns=['Customer.Has.Dni..Yes...No.'], inplace=True)\n",
    "df_usuarios_2020['fecha_alta'] = pd.to_datetime(df_usuarios_2020['fecha_alta'], errors='coerce')\n",
    "\n",
    "df_usuarios_2020 = df_usuarios_2020.rename(columns={\n",
    "    'ID_usuario': 'id_usuario',\n",
    "    'genero_usuario': 'genero'\n",
    "})\n",
    "df_usuarios_2020['edad_usuario'] = pd.to_numeric(df_usuarios_2020['edad_usuario'], errors='coerce').astype('Int64')\n",
    "df_usuarios_2020.to_csv('../data/processed/usuarios/usuarios_2020.csv', index=False)\n",
    "print(\"Archivo guardado exitosamente en data/processed/usuarios/usuarios_2020.csv\")"
   ]
  },
  {
   "cell_type": "markdown",
   "metadata": {},
   "source": [
    "## 2) Dataset Usuarios 2021"
   ]
  },
  {
   "cell_type": "code",
   "execution_count": 209,
   "metadata": {},
   "outputs": [
    {
     "name": "stdout",
     "output_type": "stream",
     "text": [
      "Archivo guardado exitosamente en data/processed/usuarios/usuarios_2021.csv\n"
     ]
    }
   ],
   "source": [
    "df_usuarios_2021 = pd.read_csv('../data/raw/usuarios/usuarios_ecobici_2021.csv')\n",
    "df_usuarios_2021.drop(columns=['Customer.Has.Dni..Yes...No.'], inplace=True)\n",
    "df_usuarios_2021['fecha_alta'] = pd.to_datetime(df_usuarios_2021['fecha_alta'], errors='coerce')\n",
    "\n",
    "df_usuarios_2021 = df_usuarios_2021.rename(columns={\n",
    "    'ID_usuario': 'id_usuario',\n",
    "    'genero_usuario': 'genero'\n",
    "})\n",
    "df_usuarios_2021['edad_usuario'] = pd.to_numeric(df_usuarios_2021['edad_usuario'], errors='coerce').astype('Int64')\n",
    "df_usuarios_2021.to_csv('../data/processed/usuarios/usuarios_2021.csv', index=False)\n",
    "print(\"Archivo guardado exitosamente en data/processed/usuarios/usuarios_2021.csv\")"
   ]
  },
  {
   "cell_type": "markdown",
   "metadata": {},
   "source": [
    "## 3) Dataset Usuarios 2022"
   ]
  },
  {
   "cell_type": "code",
   "execution_count": 210,
   "metadata": {},
   "outputs": [
    {
     "name": "stdout",
     "output_type": "stream",
     "text": [
      "Archivo guardado exitosamente en data/processed/usuarios/usuarios_2022.csv\n"
     ]
    }
   ],
   "source": [
    "df_usuarios_2022 = pd.read_csv('../data/raw/usuarios/usuarios_ecobici_2022.csv')\n",
    "df_usuarios_2022.drop(columns=['Customer.Has.Dni..Yes...No.'], inplace=True)\n",
    "df_usuarios_2022['fecha_alta'] = pd.to_datetime(df_usuarios_2022['fecha_alta'], errors='coerce')\n",
    "\n",
    "\n",
    "df_usuarios_2022 = df_usuarios_2022.rename(columns={\n",
    "    'ID_usuario': 'id_usuario',\n",
    "    'genero_usuario': 'genero'\n",
    "})\n",
    "df_usuarios_2022['edad_usuario'] = pd.to_numeric(df_usuarios_2022['edad_usuario'], errors='coerce').astype('Int64')\n",
    "df_usuarios_2022.to_csv('../data/processed/usuarios/usuarios_2022.csv', index=False)\n",
    "print(\"Archivo guardado exitosamente en data/processed/usuarios/usuarios_2022.csv\")"
   ]
  },
  {
   "cell_type": "markdown",
   "metadata": {},
   "source": [
    "## 4) Dataset Usuarios 2023"
   ]
  },
  {
   "cell_type": "code",
   "execution_count": 211,
   "metadata": {},
   "outputs": [
    {
     "name": "stdout",
     "output_type": "stream",
     "text": [
      "Archivo guardado exitosamente en data/processed/usuarios/usuarios_2023.csv\n"
     ]
    }
   ],
   "source": [
    "df_usuarios_2023 = pd.read_csv('../data/raw/usuarios/usuarios_ecobici_2023.csv',low_memory=False)\n",
    "df_usuarios_2023.drop(columns=['Customer.Has.Dni..Yes...No.'], inplace=True)\n",
    "df_usuarios_2023['fecha_alta'] = pd.to_datetime(df_usuarios_2023['fecha_alta'], errors='coerce')\n",
    "\n",
    "df_usuarios_2023 = df_usuarios_2023.rename(columns={\n",
    "    'ID_usuario': 'id_usuario',\n",
    "    'genero_usuario': 'genero'\n",
    "})\n",
    "df_usuarios_2023['edad_usuario'] = pd.to_numeric(df_usuarios_2023['edad_usuario'], errors='coerce').astype('Int64')\n",
    "df_usuarios_2023.to_csv('../data/processed/usuarios/usuarios_2023.csv', index=False)\n",
    "print(\"Archivo guardado exitosamente en data/processed/usuarios/usuarios_2023.csv\")"
   ]
  },
  {
   "cell_type": "markdown",
   "metadata": {},
   "source": [
    "## 5) Dataset Usuarios 2024"
   ]
  },
  {
   "cell_type": "code",
   "execution_count": 212,
   "metadata": {},
   "outputs": [
    {
     "name": "stdout",
     "output_type": "stream",
     "text": [
      "Filas restantes luego del filtro: 115204\n",
      "Archivo guardado exitosamente en data/processed/usuarios/usuarios_2024.csv\n"
     ]
    }
   ],
   "source": [
    "df_usuarios_2024 = pd.read_csv('../data/raw/usuarios/usuarios_ecobici_2024.csv')\n",
    "df_usuarios_2024['fecha_alta'] = pd.to_datetime(df_usuarios_2024['fecha_alta'], errors='coerce')\n",
    "df_usuarios_2024 = df_usuarios_2024.rename(columns={\n",
    "    'genero_usuario': 'genero'\n",
    "})\n",
    "df_usuarios_2024 = df_usuarios_2024[df_usuarios_2024['fecha_alta'].dt.month <= 8]\n",
    "print(f\"Filas restantes luego del filtro: {df_usuarios_2024.shape[0]}\")\n",
    "df_usuarios_2024.to_csv('../data/processed/usuarios/usuarios_2024.csv', index=False)\n",
    "print(\"Archivo guardado exitosamente en data/processed/usuarios/usuarios_2024.csv\")"
   ]
  }
 ],
 "metadata": {
  "kernelspec": {
   "display_name": "base",
   "language": "python",
   "name": "python3"
  },
  "language_info": {
   "codemirror_mode": {
    "name": "ipython",
    "version": 3
   },
   "file_extension": ".py",
   "mimetype": "text/x-python",
   "name": "python",
   "nbconvert_exporter": "python",
   "pygments_lexer": "ipython3",
   "version": "3.12.4"
  }
 },
 "nbformat": 4,
 "nbformat_minor": 2
}
