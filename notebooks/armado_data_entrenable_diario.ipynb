{
 "cells": [
  {
   "cell_type": "markdown",
   "metadata": {},
   "source": [
    "# Armado de Dataset Entrenable - Diario"
   ]
  },
  {
   "cell_type": "markdown",
   "metadata": {},
   "source": [
    "## Armado de datos"
   ]
  },
  {
   "cell_type": "code",
   "execution_count": 33,
   "metadata": {},
   "outputs": [],
   "source": [
    "import pandas as pd\n",
    "import numpy as np\n",
    "import matplotlib.pyplot as plt\n",
    "import itertools\n",
    "from sklearn.cluster import KMeans\n",
    "from sklearn.preprocessing import StandardScaler"
   ]
  },
  {
   "cell_type": "code",
   "execution_count": 34,
   "metadata": {},
   "outputs": [
    {
     "name": "stdout",
     "output_type": "stream",
     "text": [
      "Shape combinado: (4777976, 17)\n"
     ]
    }
   ],
   "source": [
    "df_2023 = pd.read_csv('../data/processed/recorridos/trips_2023.csv')\n",
    "df_2024 = pd.read_csv('../data/processed/recorridos/trips_2024.csv')\n",
    "df = pd.concat([df_2023, df_2024], ignore_index=True)\n",
    "print(f\"Shape combinado: {df.shape}\")\n",
    "df = df[df['duracion_recorrido'] <= 7200]\n",
    "df = df.dropna()"
   ]
  },
  {
   "cell_type": "code",
   "execution_count": 35,
   "metadata": {},
   "outputs": [],
   "source": [
    "# Crear el rango temporal deseado (con ventanas de 30 minutos)\n",
    "rango_tiempo = pd.date_range(start='2023-01-01', end='2024-08-31 23:59:59', freq='1D')\n",
    "\n",
    "# Obtener la lista de estaciones\n",
    "estaciones = df['id_estacion_destino'].unique()\n",
    "\n",
    "# Producto cartesiano de estaciones x ventanas\n",
    "multiindex = pd.MultiIndex.from_product([rango_tiempo, estaciones], names=['ventana', 'id_estacion'])\n",
    "\n",
    "# Crear el DataFrame base\n",
    "df_base = pd.DataFrame(index=multiindex).reset_index()"
   ]
  },
  {
   "cell_type": "code",
   "execution_count": 36,
   "metadata": {},
   "outputs": [
    {
     "name": "stdout",
     "output_type": "stream",
     "text": [
      "Index(['ventana', 'id_estacion', 'id_estacion_destino', 'bicis_arriban'], dtype='object')\n"
     ]
    }
   ],
   "source": [
    "# Crear columna ventana diaria para arribos y partidas\n",
    "df['ventana'] = pd.to_datetime(df['fecha_destino_recorrido']).dt.floor('1D')\n",
    "\n",
    "# === ARRIBOS ===\n",
    "arribos = df.groupby(['ventana', 'id_estacion_destino']).size().reset_index(name='bicis_arriban')\n",
    "\n",
    "df_base = df_base.merge(arribos, left_on=['ventana', 'id_estacion'], right_on=['ventana', 'id_estacion_destino'], how='left')\n",
    "print(df_base.columns)\n",
    "\n",
    "df_base['bicis_arriban'] = df_base['bicis_arriban'].fillna(0).astype(int)\n",
    "df_base.drop(columns=['id_estacion_destino'], inplace=True)\n",
    "\n",
    "# === PARTIDAS ===\n",
    "df['ventana'] = pd.to_datetime(df['fecha_origen_recorrido']).dt.floor('1D')\n",
    "partidas = df.groupby(['ventana', 'id_estacion_origen']).size().reset_index(name='partidas')\n",
    "partidas = partidas.rename(columns={'id_estacion_origen': 'id_estacion'})\n",
    "\n",
    "# Crear features de LAG\n",
    "for lag in [1, 2, 3]:\n",
    "    partidas[f'partidas_lag_{lag}'] = partidas.groupby('id_estacion')['partidas'].shift(lag)\n",
    "\n",
    "# Merge con df_base\n",
    "df_base = df_base.merge(partidas, on=['ventana', 'id_estacion'], how='left')\n",
    "\n",
    "# Rellenar con ceros\n",
    "cols_lags = ['partidas', 'partidas_lag_1', 'partidas_lag_2', 'partidas_lag_3']\n",
    "df_base[cols_lags] = df_base[cols_lags].fillna(0).astype(int)"
   ]
  },
  {
   "cell_type": "code",
   "execution_count": 37,
   "metadata": {},
   "outputs": [],
   "source": [
    "# === GÉNERO ===\n",
    "df['ventana'] = pd.to_datetime(df['fecha_destino_recorrido']).dt.floor('1D')  # aseguramos la misma ventana\n",
    "\n",
    "conteo_genero = df.groupby(['ventana', 'id_estacion_destino', 'genero']).size().reset_index(name='conteo')\n",
    "\n",
    "# Pivot para convertir géneros en columnas\n",
    "genero_pivot = conteo_genero.pivot(index=['ventana', 'id_estacion_destino'],\n",
    "                                   columns='genero',\n",
    "                                   values='conteo').fillna(0).astype(int)\n",
    "\n",
    "genero_pivot = genero_pivot.rename(columns={\n",
    "    'MALE': 'cant_male',\n",
    "    'FEMALE': 'cant_female',\n",
    "    'OTHER': 'cant_other'\n",
    "}).reset_index()\n",
    "\n",
    "# Merge con df_base\n",
    "df_base = df_base.merge(genero_pivot,\n",
    "                        left_on=['ventana', 'id_estacion'],\n",
    "                        right_on=['ventana', 'id_estacion_destino'],\n",
    "                        how='left')\n",
    "\n",
    "df_base = df_base.drop(columns=['id_estacion_destino'])\n",
    "\n",
    "# Rellenar NaNs de género\n",
    "for col in ['cant_male', 'cant_female', 'cant_other']:\n",
    "    if col not in df_base.columns:\n",
    "        df_base[col] = 0\n",
    "    else:\n",
    "        df_base[col] = df_base[col].fillna(0).astype(int)"
   ]
  },
  {
   "cell_type": "code",
   "execution_count": 38,
   "metadata": {},
   "outputs": [],
   "source": [
    "# Extraer latitud y longitud únicas por estación destino\n",
    "estaciones = df[['id_estacion_destino', 'lat_estacion_destino', 'long_estacion_destino']].drop_duplicates()\n",
    "\n",
    "# Renombrar columnas para el merge\n",
    "estaciones = estaciones.rename(columns={\n",
    "    'id_estacion_destino': 'id_estacion',\n",
    "    'lat_estacion_destino': 'latitud',\n",
    "    'long_estacion_destino': 'longitud'\n",
    "})\n",
    "\n",
    "# Unir con df_base por id_estacion\n",
    "df_base = df_base.merge(estaciones, on='id_estacion', how='left')"
   ]
  },
  {
   "cell_type": "code",
   "execution_count": 39,
   "metadata": {},
   "outputs": [],
   "source": [
    "# Crear ventana diaria\n",
    "df['ventana'] = pd.to_datetime(df['fecha_destino_recorrido']).dt.floor('1D')\n",
    "\n",
    "# Agrupar por ventana diaria, estación y modelo\n",
    "conteo_modelo = df.groupby(['ventana', 'id_estacion_destino', 'modelo_bicicleta']).size().reset_index(name='conteo')\n",
    "\n",
    "# Pivotear a columnas separadas por modelo de bicicleta\n",
    "modelo_pivot = conteo_modelo.pivot(index=['ventana', 'id_estacion_destino'],\n",
    "                                   columns='modelo_bicicleta',\n",
    "                                   values='conteo').fillna(0).astype(int)\n",
    "\n",
    "# Renombrar columnas\n",
    "modelo_pivot = modelo_pivot.rename(columns={\n",
    "    'FIT': 'cant_fit',\n",
    "    'ICONIC': 'cant_iconic'\n",
    "}).reset_index()\n",
    "\n",
    "# Merge con df_base\n",
    "df_base = df_base.merge(modelo_pivot,\n",
    "                        left_on=['ventana', 'id_estacion'],\n",
    "                        right_on=['ventana', 'id_estacion_destino'],\n",
    "                        how='left')\n",
    "\n",
    "# Limpiar columna auxiliar\n",
    "df_base = df_base.drop(columns=['id_estacion_destino'])\n",
    "\n",
    "# Rellenar NaNs con ceros\n",
    "for col in ['cant_fit', 'cant_iconic']:\n",
    "    if col not in df_base.columns:\n",
    "        df_base[col] = 0\n",
    "    else:\n",
    "        df_base[col] = df_base[col].fillna(0).astype(int)\n"
   ]
  },
  {
   "cell_type": "code",
   "execution_count": 40,
   "metadata": {},
   "outputs": [
    {
     "name": "stdout",
     "output_type": "stream",
     "text": [
      "(4724761, 18)\n",
      "(347739, 14)\n"
     ]
    }
   ],
   "source": [
    "print(df.shape)\n",
    "print(df_base.shape)"
   ]
  },
  {
   "cell_type": "code",
   "execution_count": 41,
   "metadata": {},
   "outputs": [
    {
     "name": "stdout",
     "output_type": "stream",
     "text": [
      "Cluster 0: ['Saturday', 'Sunday']\n",
      "Cluster 1: ['Monday', 'Tuesday', 'Wednesday', 'Thursday', 'Friday']\n"
     ]
    }
   ],
   "source": [
    "for cluster_id in sorted(dias['cluster'].unique()):\n",
    "    dias_en_cluster = dias[dias['cluster'] == cluster_id]['dia_semana'].tolist()\n",
    "    print(f\"Cluster {cluster_id}: {dias_en_cluster}\")\n"
   ]
  },
  {
   "cell_type": "code",
   "execution_count": 42,
   "metadata": {},
   "outputs": [
    {
     "name": "stdout",
     "output_type": "stream",
     "text": [
      "(347739, 14)\n"
     ]
    }
   ],
   "source": [
    "print(df_base.shape)"
   ]
  },
  {
   "cell_type": "code",
   "execution_count": 43,
   "metadata": {},
   "outputs": [],
   "source": [
    "df_base['es_finde'] = (df_base['ventana'].dt.dayofweek >= 5).astype(int)"
   ]
  },
  {
   "cell_type": "code",
   "execution_count": 45,
   "metadata": {},
   "outputs": [
    {
     "name": "stdout",
     "output_type": "stream",
     "text": [
      "(347739, 15)\n"
     ]
    }
   ],
   "source": [
    "print(df_base.shape)"
   ]
  },
  {
   "cell_type": "code",
   "execution_count": 46,
   "metadata": {},
   "outputs": [],
   "source": [
    "# Agrupar por estación\n",
    "estaciones = (\n",
    "    df_base\n",
    "    .groupby('id_estacion')\n",
    "    .agg({\n",
    "        'bicis_arriban': 'mean',\n",
    "        'partidas': 'mean'\n",
    "    })\n",
    "    .reset_index()\n",
    ")"
   ]
  },
  {
   "cell_type": "code",
   "execution_count": 47,
   "metadata": {},
   "outputs": [],
   "source": [
    "X = estaciones[['bicis_arriban', 'partidas']]\n",
    "X_scaled = StandardScaler().fit_transform(X)"
   ]
  },
  {
   "cell_type": "code",
   "execution_count": 48,
   "metadata": {},
   "outputs": [
    {
     "data": {
      "image/png": "[encoded data removed]",
      "text/plain": [
       "<Figure size 800x500 with 1 Axes>"
      ]
     },
     "metadata": {},
     "output_type": "display_data"
    },
    {
     "name": "stdout",
     "output_type": "stream",
     "text": [
      "✅ Cantidad óptima de clusters según el codo: 3\n"
     ]
    }
   ],
   "source": [
    "inercia = []\n",
    "ks = range(1, 10)\n",
    "\n",
    "for k in ks:\n",
    "    kmeans = KMeans(n_clusters=k, random_state=42)\n",
    "    kmeans.fit(X_scaled)\n",
    "    inercia.append(kmeans.inertia_)\n",
    "\n",
    "# Calcular \"codo\" geométricamente\n",
    "x = np.array(list(ks))\n",
    "y = np.array(inercia)\n",
    "p1 = np.array([x[0], y[0]])\n",
    "p2 = np.array([x[-1], y[-1]])\n",
    "\n",
    "def distancia(p, a, b):\n",
    "    return np.abs(np.cross(b - a, a - p)) / np.linalg.norm(b - a)\n",
    "\n",
    "distancias = [distancia(np.array([x[i], y[i]]), p1, p2) for i in range(len(x))]\n",
    "k_optimo = x[np.argmax(distancias)]\n",
    "\n",
    "# Graficar codo\n",
    "plt.figure(figsize=(8, 5))\n",
    "plt.plot(x, y, marker='o', label='Inercia (SSE)')\n",
    "plt.plot(k_optimo, y[np.argmax(distancias)], 'ro', label=f'Codo óptimo: k = {k_optimo}')\n",
    "plt.xlabel(\"Número de clusters (k)\")\n",
    "plt.ylabel(\"Inercia\")\n",
    "plt.title(\"Método del codo - Clustering de estaciones\")\n",
    "plt.legend()\n",
    "plt.grid(True)\n",
    "plt.tight_layout()\n",
    "plt.show()\n",
    "\n",
    "print(f\"✅ Cantidad óptima de clusters según el codo: {k_optimo}\")\n"
   ]
  },
  {
   "cell_type": "code",
   "execution_count": 49,
   "metadata": {},
   "outputs": [],
   "source": [
    "# Entrenar el modelo final de clustering\n",
    "kmeans = KMeans(n_clusters=k_optimo, random_state=42)\n",
    "estaciones['cluster'] = kmeans.fit_predict(X_scaled)"
   ]
  },
  {
   "cell_type": "code",
   "execution_count": 50,
   "metadata": {},
   "outputs": [],
   "source": [
    "# Obtener el centroide promedio de cada cluster\n",
    "centros = kmeans.cluster_centers_\n",
    "\n",
    "# Tomamos el valor medio de 'bicis_arriban' en el centroide\n",
    "intensidades = centros[:, 0]  # Asumiendo que 'bicis_arriban' fue la primera columna\n",
    "\n",
    "# Ordenar de menor a mayor uso\n",
    "orden = intensidades.argsort()\n",
    "\n",
    "# Asignar etiquetas interpretables según orden\n",
    "etiquetas = {orden[0]: 'fantasma'}\n",
    "if len(orden) >= 3:\n",
    "    etiquetas[orden[1]] = 'moderada'\n",
    "    etiquetas[orden[2]] = 'central'\n",
    "elif len(orden) == 2:\n",
    "    etiquetas[orden[1]] = 'central'\n",
    "\n",
    "# Agregar columna con etiqueta de tipo de estación\n",
    "estaciones['tipo_estacion'] = estaciones['cluster'].map(etiquetas)\n"
   ]
  },
  {
   "cell_type": "code",
   "execution_count": 51,
   "metadata": {},
   "outputs": [
    {
     "name": "stdout",
     "output_type": "stream",
     "text": [
      "     id_estacion  bicis_arriban   partidas  cluster tipo_estacion\n",
      "148        215.0      45.538588  45.093596        1       central\n",
      "69          96.0      48.471264  48.144499        1       central\n",
      "244        379.0      40.050903  38.981938        1       central\n",
      "167        242.0      44.366174  44.942529        1       central\n",
      "124        183.0      41.809524  44.793103        1       central\n",
      "..           ...            ...        ...      ...           ...\n",
      "155        228.0      26.310345  24.917898        2      moderada\n",
      "156        229.0      17.963875  17.671593        2      moderada\n",
      "158        231.0      17.944171  17.691297        2      moderada\n",
      "133        194.0      27.978654  29.880131        2      moderada\n",
      "191        275.0      26.151067  26.021346        2      moderada\n",
      "\n",
      "[383 rows x 5 columns]\n"
     ]
    }
   ],
   "source": [
    "print(estaciones[['id_estacion', 'bicis_arriban', 'partidas', 'cluster', 'tipo_estacion']].sort_values('tipo_estacion'))"
   ]
  },
  {
   "cell_type": "code",
   "execution_count": 53,
   "metadata": {},
   "outputs": [],
   "source": [
    "# Asumimos que 'estaciones' tiene las columnas 'id_estacion' y 'tipo_estacion'\n",
    "mapa_tipo = dict(zip(estaciones['id_estacion'], estaciones['tipo_estacion']))"
   ]
  },
  {
   "cell_type": "code",
   "execution_count": 54,
   "metadata": {},
   "outputs": [],
   "source": [
    "df_base['tipo_estacion'] = df_base['id_estacion'].map(mapa_tipo)"
   ]
  },
  {
   "cell_type": "code",
   "execution_count": 55,
   "metadata": {},
   "outputs": [
    {
     "name": "stdout",
     "output_type": "stream",
     "text": [
      "(347739, 16)\n"
     ]
    }
   ],
   "source": [
    "print(df_base.shape)"
   ]
  },
  {
   "cell_type": "code",
   "execution_count": 56,
   "metadata": {},
   "outputs": [
    {
     "name": "stdout",
     "output_type": "stream",
     "text": [
      "Top 5 estaciones más activas: [289.0, 131.0, 54.0, 515.0, 254.0]\n"
     ]
    }
   ],
   "source": [
    "top_5_estaciones = (\n",
    "    df_base\n",
    "    .groupby('id_estacion')['bicis_arriban']\n",
    "    .sum()\n",
    "    .sort_values(ascending=False)\n",
    "    .head(5)\n",
    "    .index.tolist()\n",
    ")\n",
    "\n",
    "print(\"Top 5 estaciones más activas:\", top_5_estaciones)\n"
   ]
  },
  {
   "cell_type": "code",
   "execution_count": 59,
   "metadata": {},
   "outputs": [],
   "source": [
    "# Desde las estaciones de destino\n",
    "estaciones_dest = df[['id_estacion_destino', 'lat_estacion_destino', 'long_estacion_destino']].dropna()\n",
    "estaciones_dest.columns = ['id_estacion', 'latitud', 'longitud']\n",
    "\n",
    "# Desde las estaciones de origen\n",
    "estaciones_origen = df[['id_estacion_origen', 'lat_estacion_origen', 'long_estacion_origen']].dropna()\n",
    "estaciones_origen.columns = ['id_estacion', 'latitud', 'longitud']\n",
    "\n",
    "# Combinar ambos\n",
    "df_estaciones = pd.concat([estaciones_dest, estaciones_origen], ignore_index=True)\n",
    "\n",
    "# Eliminar duplicados por id_estacion\n",
    "df_estaciones = df_estaciones.drop_duplicates(subset='id_estacion')"
   ]
  },
  {
   "cell_type": "code",
   "execution_count": 60,
   "metadata": {},
   "outputs": [],
   "source": [
    "# Asegurar tipos float\n",
    "df_estaciones['latitud'] = df_estaciones['latitud'].astype(float)\n",
    "df_estaciones['longitud'] = df_estaciones['longitud'].astype(float)\n",
    "\n",
    "# Obtener coordenadas de las estaciones centrales\n",
    "top_coords = (\n",
    "    df_estaciones[df_estaciones['id_estacion'].isin(top_5_estaciones)]\n",
    "    .set_index('id_estacion')[['latitud', 'longitud']]\n",
    ")\n",
    "\n",
    "# Crear copia para agregar distancias\n",
    "df_estaciones_dist = df_estaciones.copy()\n",
    "\n",
    "# Calcular distancia a cada estación central\n",
    "for i, ref_id in enumerate(top_5_estaciones, start=1):\n",
    "    lat_ref = top_coords.loc[ref_id, 'latitud']\n",
    "    lon_ref = top_coords.loc[ref_id, 'longitud']\n",
    "    \n",
    "    df_estaciones_dist[f'distancia_central_{i}'] = np.sqrt(\n",
    "        (df_estaciones['latitud'] - lat_ref)**2 + \n",
    "        (df_estaciones['longitud'] - lon_ref)**2\n",
    "    )"
   ]
  },
  {
   "cell_type": "code",
   "execution_count": 62,
   "metadata": {},
   "outputs": [
    {
     "name": "stdout",
     "output_type": "stream",
     "text": [
      "   id_estacion    latitud   longitud\n",
      "0        278.0 -34.564122 -58.469813\n",
      "1          3.0 -34.611102 -58.368174\n",
      "2        280.0 -34.633528 -58.449379\n",
      "3        367.0 -34.616212 -58.477209\n",
      "4         14.0 -34.577424 -58.426387\n",
      "Total estaciones únicas: 383\n"
     ]
    }
   ],
   "source": [
    "print(df_estaciones.head())\n",
    "print(f\"Total estaciones únicas: {df_estaciones.shape[0]}\")"
   ]
  },
  {
   "cell_type": "code",
   "execution_count": 63,
   "metadata": {},
   "outputs": [],
   "source": [
    "# Nos aseguramos de quedarnos con una fila por id_estacion\n",
    "distancias_por_estacion = df_estaciones_dist[[\n",
    "    'id_estacion'] + [f'distancia_central_{i}' for i in range(1, 6)]\n",
    "].drop_duplicates('id_estacion')\n",
    "\n",
    "# Merge\n",
    "df_base = df_base.merge(distancias_por_estacion, on='id_estacion', how='left')"
   ]
  },
  {
   "cell_type": "code",
   "execution_count": 65,
   "metadata": {},
   "outputs": [
    {
     "name": "stdout",
     "output_type": "stream",
     "text": [
      "(347739, 21)\n",
      "Index(['ventana', 'id_estacion', 'bicis_arriban', 'partidas', 'partidas_lag_1',\n",
      "       'partidas_lag_2', 'partidas_lag_3', 'cant_female', 'cant_male',\n",
      "       'cant_other', 'latitud', 'longitud', 'cant_fit', 'cant_iconic',\n",
      "       'es_finde', 'tipo_estacion', 'distancia_central_1',\n",
      "       'distancia_central_2', 'distancia_central_3', 'distancia_central_4',\n",
      "       'distancia_central_5'],\n",
      "      dtype='object')\n"
     ]
    }
   ],
   "source": [
    "print(df_base.shape)\n",
    "print(df_base.columns)"
   ]
  },
  {
   "cell_type": "code",
   "execution_count": 66,
   "metadata": {},
   "outputs": [],
   "source": [
    "df_base.to_csv('../data/handled/dataset_diario.csv', index=False)"
   ]
  }
 ],
 "metadata": {
  "kernelspec": {
   "display_name": "base",
   "language": "python",
   "name": "python3"
  },
  "language_info": {
   "codemirror_mode": {
    "name": "ipython",
    "version": 3
   },
   "file_extension": ".py",
   "mimetype": "text/x-python",
   "name": "python",
   "nbconvert_exporter": "python",
   "pygments_lexer": "ipython3",
   "version": "3.12.4"
  }
 },
 "nbformat": 4,
 "nbformat_minor": 2
}
