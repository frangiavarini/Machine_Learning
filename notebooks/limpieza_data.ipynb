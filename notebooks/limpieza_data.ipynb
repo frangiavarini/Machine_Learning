{
 "cells": [
  {
   "cell_type": "markdown",
   "metadata": {},
   "source": [
    "# Limpieza de datos - Ánalisis de valores Género\n",
    "Búqueda de Nan's, y reemplazo"
   ]
  },
  {
   "cell_type": "code",
   "execution_count": 11,
   "metadata": {},
   "outputs": [],
   "source": [
    "import pandas as pd"
   ]
  },
  {
   "cell_type": "code",
   "execution_count": 12,
   "metadata": {},
   "outputs": [
    {
     "data": {
      "text/plain": [
       "id_recorrido                     0\n",
       "duracion_recorrido               0\n",
       "fecha_origen_recorrido           0\n",
       "id_estacion_origen               0\n",
       "nombre_estacion_origen           0\n",
       "direccion_estacion_origen        0\n",
       "long_estacion_origen             0\n",
       "lat_estacion_origen              0\n",
       "fecha_destino_recorrido          0\n",
       "id_estacion_destino              0\n",
       "nombre_estacion_destino          0\n",
       "direccion_estacion_destino       0\n",
       "long_estacion_destino            0\n",
       "lat_estacion_destino             0\n",
       "id_usuario                       0\n",
       "modelo_bicicleta                 0\n",
       "genero                        7663\n",
       "dtype: int64"
      ]
     },
     "execution_count": 12,
     "metadata": {},
     "output_type": "execute_result"
    }
   ],
   "source": [
    "df_2024 = pd.read_csv('../data/processed/recorridos/trips_2024.csv')\n",
    "df_2024.isna().sum()"
   ]
  },
  {
   "cell_type": "code",
   "execution_count": 13,
   "metadata": {},
   "outputs": [],
   "source": [
    "df_usuarios = pd.read_csv('../data/processed/usuarios.csv')"
   ]
  },
  {
   "cell_type": "code",
   "execution_count": 20,
   "metadata": {},
   "outputs": [
    {
     "name": "stdout",
     "output_type": "stream",
     "text": [
      "      id_recorrido  duracion_recorrido fecha_origen_recorrido  \\\n",
      "242       20421678                1071    2024-01-23 10:36:25   \n",
      "898       20430626                3011    2024-01-23 20:48:23   \n",
      "899       20428035                2754    2024-01-23 18:26:57   \n",
      "900       20421780                 639    2024-01-23 10:47:46   \n",
      "1020      20422378                 710    2024-01-23 11:43:34   \n",
      "\n",
      "      id_estacion_origen         nombre_estacion_origen  \\\n",
      "242                   23                 023 - Suipacha   \n",
      "898                  416  257 - Plaza Francisco Ramirez   \n",
      "899                  318                 285 - ESPINOSA   \n",
      "900                  242                    103 - MALBA   \n",
      "1020                  59            018 - Independencia   \n",
      "\n",
      "                direccion_estacion_origen  long_estacion_origen  \\\n",
      "242                   Suipacha & Viamonte            -58.379836   \n",
      "898                 2700 Pedraza, Manuela            -58.469133   \n",
      "899                         1785 Espinosa            -58.457317   \n",
      "900       Av. Pres. Figueroa Alcorta 3451            -58.403984   \n",
      "1020  Idependencia y Bernardo de Irigoyen            -58.380565   \n",
      "\n",
      "      lat_estacion_origen fecha_destino_recorrido  id_estacion_destino  \\\n",
      "242            -34.600139     2024-01-23 10:54:16                  172   \n",
      "898            -34.553262     2024-01-23 21:38:34                  318   \n",
      "899            -34.603936     2024-01-23 19:12:51                  416   \n",
      "900            -34.576949     2024-01-23 10:58:25                   14   \n",
      "1020           -34.617654     2024-01-23 11:55:24                   83   \n",
      "\n",
      "            nombre_estacion_destino         direccion_estacion_destino  \\\n",
      "242                    172 - BRASIL                     BRASIL&DEFENSA   \n",
      "898                  285 - ESPINOSA                      1785 Espinosa   \n",
      "899   257 - Plaza Francisco Ramirez              2700 Pedraza, Manuela   \n",
      "900                  014 - Pacifico  Santa Fe Av. & Bullrich, Int. Av.   \n",
      "1020                   083 - Paraná                       1590 Lavalle   \n",
      "\n",
      "      long_estacion_destino  lat_estacion_destino  id_usuario  \\\n",
      "242              -58.371082            -34.625426     22682.0   \n",
      "898              -58.457317            -34.603936     20757.0   \n",
      "899              -58.469133            -34.553262     20757.0   \n",
      "900              -58.426387            -34.577424     20753.0   \n",
      "1020             -58.389373            -34.603269     19535.0   \n",
      "\n",
      "     modelo_bicicleta genero  \n",
      "242               FIT    NaN  \n",
      "898               FIT    NaN  \n",
      "899               FIT    NaN  \n",
      "900            ICONIC    NaN  \n",
      "1020              FIT    NaN  \n",
      "Cantidad de IDs con género faltante: 7663\n"
     ]
    }
   ],
   "source": [
    "# Filtrar filas donde el género es NaN\n",
    "usuarios_con_nan = df_2024[df_2024['genero'].isna()]\n",
    "print(usuarios_con_nan.head())\n",
    "print(f\"Cantidad de IDs con género faltante: {len(usuarios_con_nan)}\")"
   ]
  },
  {
   "cell_type": "code",
   "execution_count": 16,
   "metadata": {},
   "outputs": [
    {
     "data": {
      "text/plain": [
       "id_recorrido                     0\n",
       "duracion_recorrido               0\n",
       "fecha_origen_recorrido           0\n",
       "id_estacion_origen               0\n",
       "nombre_estacion_origen           0\n",
       "direccion_estacion_origen        0\n",
       "long_estacion_origen             0\n",
       "lat_estacion_origen              0\n",
       "fecha_destino_recorrido          0\n",
       "id_estacion_destino              0\n",
       "nombre_estacion_destino          0\n",
       "direccion_estacion_destino       0\n",
       "long_estacion_destino            0\n",
       "lat_estacion_destino             0\n",
       "id_usuario                       0\n",
       "modelo_bicicleta                 0\n",
       "genero                        7663\n",
       "dtype: int64"
      ]
     },
     "execution_count": 16,
     "metadata": {},
     "output_type": "execute_result"
    }
   ],
   "source": [
    "df_2024_copia.isna().sum()"
   ]
  },
  {
   "cell_type": "code",
   "execution_count": 22,
   "metadata": {},
   "outputs": [
    {
     "name": "stdout",
     "output_type": "stream",
     "text": [
      "IDs buscados: 448\n",
      "IDs que aparecen en usuarios.csv: 0\n"
     ]
    }
   ],
   "source": [
    "\n",
    "# 2. Asegurarse de que ambos estén en el mismo tipo (recomendado: Int64 o str)\n",
    "df_usuarios['id_usuario'] = pd.to_numeric(df_usuarios['id_usuario'], errors='coerce').astype('Int64')\n",
    "ids_faltantes = pd.Series(ids_faltantes).dropna().astype('Int64')\n",
    "\n",
    "# 3. Filtrar cuáles están en el dataset de usuarios\n",
    "ids_encontrados = ids_faltantes[ids_faltantes.isin(df_usuarios['id_usuario'])]\n",
    "\n",
    "# 4. Mostrar cantidad\n",
    "print(f\"IDs buscados: {len(ids_faltantes)}\")\n",
    "print(f\"IDs que aparecen en usuarios.csv: {len(ids_encontrados)}\")\n"
   ]
  }
 ],
 "metadata": {
  "kernelspec": {
   "display_name": "base",
   "language": "python",
   "name": "python3"
  },
  "language_info": {
   "codemirror_mode": {
    "name": "ipython",
    "version": 3
   },
   "file_extension": ".py",
   "mimetype": "text/x-python",
   "name": "python",
   "nbconvert_exporter": "python",
   "pygments_lexer": "ipython3",
   "version": "3.12.4"
  }
 },
 "nbformat": 4,
 "nbformat_minor": 2
}
