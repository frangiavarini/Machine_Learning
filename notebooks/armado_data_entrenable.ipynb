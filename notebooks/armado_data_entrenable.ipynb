{
 "cells": [
  {
   "cell_type": "markdown",
   "metadata": {},
   "source": [
    "# Armado de Dataset Entrenable"
   ]
  },
  {
   "cell_type": "markdown",
   "metadata": {},
   "source": [
    "## Armado de datos"
   ]
  },
  {
   "cell_type": "code",
   "execution_count": 36,
   "metadata": {},
   "outputs": [],
   "source": [
    "import pandas as pd\n",
    "import numpy as np\n",
    "import matplotlib.pyplot as plt\n",
    "import itertools\n",
    "from sklearn.cluster import KMeans\n",
    "from sklearn.preprocessing import StandardScaler"
   ]
  },
  {
   "cell_type": "code",
   "execution_count": 37,
   "metadata": {},
   "outputs": [
    {
     "name": "stdout",
     "output_type": "stream",
     "text": [
      "Shape combinado: (4777976, 17)\n"
     ]
    }
   ],
   "source": [
    "df_2023 = pd.read_csv('../data/processed/recorridos/trips_2023.csv')\n",
    "df_2024 = pd.read_csv('../data/processed/recorridos/trips_2024.csv')\n",
    "df = pd.concat([df_2023, df_2024], ignore_index=True)\n",
    "print(f\"Shape combinado: {df.shape}\")\n",
    "df = df[df['duracion_recorrido'] <= 7200]\n",
    "df = df.dropna()"
   ]
  },
  {
   "cell_type": "code",
   "execution_count": 38,
   "metadata": {},
   "outputs": [],
   "source": [
    "# Crear el rango temporal deseado (con ventanas de 30 minutos)\n",
    "rango_tiempo = pd.date_range(start='2023-01-01', end='2024-08-31 23:59:59', freq='60min')\n",
    "\n",
    "# Obtener la lista de estaciones\n",
    "estaciones = df['id_estacion_destino'].unique()\n",
    "\n",
    "# Producto cartesiano de estaciones x ventanas\n",
    "multiindex = pd.MultiIndex.from_product([rango_tiempo, estaciones], names=['ventana_30min', 'id_estacion'])\n",
    "\n",
    "# Crear el DataFrame base\n",
    "df_base = pd.DataFrame(index=multiindex).reset_index()"
   ]
  },
  {
   "cell_type": "code",
   "execution_count": 39,
   "metadata": {},
   "outputs": [],
   "source": [
    "df['ventana_30min'] = pd.to_datetime(df['fecha_destino_recorrido']).dt.floor('30min')\n",
    "arribos = df.groupby(['ventana_30min', 'id_estacion_destino']).size().reset_index(name='bicis_arriban')\n",
    "\n",
    "df_base = df_base.merge(arribos, left_on=['ventana_30min', 'id_estacion'], right_on=['ventana_30min', 'id_estacion_destino'], how='left')\n",
    "df_base['bicis_arriban'] = df_base['bicis_arriban'].fillna(0).astype(int)\n",
    "df_base.drop(columns=['id_estacion_destino'], inplace=True)\n"
   ]
  },
  {
   "cell_type": "code",
   "execution_count": 40,
   "metadata": {},
   "outputs": [],
   "source": [
    "df['ventana_30min'] = pd.to_datetime(df['fecha_origen_recorrido']).dt.floor('30min')\n",
    "partidas = df.groupby(['ventana_30min', 'id_estacion_origen']).size().reset_index(name='partidas')\n",
    "\n",
    "# Cambiar nombre para merge\n",
    "partidas = partidas.rename(columns={\n",
    "    'id_estacion_origen': 'id_estacion',\n",
    "    'ventana_30min': 'ventana_30min'\n",
    "})\n",
    "\n",
    "# Agregar lag features de partidas\n",
    "for lag in [1, 2, 3]:\n",
    "    partidas[f'partidas_lag_{lag}'] = partidas.groupby('id_estacion')['partidas'].shift(lag)\n",
    "\n",
    "# Unir con df_base\n",
    "df_base = df_base.merge(partidas, on=['ventana_30min', 'id_estacion'], how='left')\n"
   ]
  },
  {
   "cell_type": "code",
   "execution_count": 41,
   "metadata": {},
   "outputs": [],
   "source": [
    "# Asegurar que ventana_30min esté en formato datetime\n",
    "df_base['ventana_30min'] = pd.to_datetime(df_base['ventana_30min'])\n",
    "\n",
    "# (Opcional) si querés forzar la visualización con hora en consola/Notebook\n",
    "df_base['ventana_30min'] = df_base['ventana_30min'].dt.strftime('%Y-%m-%d %H:%M:%S')\n"
   ]
  },
  {
   "cell_type": "code",
   "execution_count": 42,
   "metadata": {},
   "outputs": [],
   "source": [
    "# Rellenar con ceros las columnas de partidas y sus lags\n",
    "cols_lags = ['partidas', 'partidas_lag_1', 'partidas_lag_2', 'partidas_lag_3']\n",
    "df_base[cols_lags] = df_base[cols_lags].fillna(0).astype(int)\n",
    "\n",
    "df_base['ventana_30min'] = pd.to_datetime(df_base['ventana_30min'])"
   ]
  },
  {
   "cell_type": "code",
   "execution_count": 43,
   "metadata": {},
   "outputs": [],
   "source": [
    "# Asegurar que la columna ventana_30min está en datetime en ambos DataFrames\n",
    "df['ventana_30min'] = pd.to_datetime(df['fecha_destino_recorrido']).dt.floor('30min')\n",
    "df_base['ventana_30min'] = pd.to_datetime(df_base['ventana_30min'])\n",
    "\n",
    "# Agrupar por ventana y estación destino + género\n",
    "conteo_genero = df.groupby(['ventana_30min', 'id_estacion_destino', 'genero']).size().reset_index(name='conteo')\n",
    "\n",
    "# Pivotear a columnas por género\n",
    "genero_pivot = conteo_genero.pivot(index=['ventana_30min', 'id_estacion_destino'],\n",
    "                                   columns='genero',\n",
    "                                   values='conteo').fillna(0).astype(int)\n",
    "\n",
    "# Renombrar columnas\n",
    "genero_pivot = genero_pivot.rename(columns={\n",
    "    'MALE': 'cant_male',\n",
    "    'FEMALE': 'cant_female',\n",
    "    'OTHER': 'cant_other'\n",
    "}).reset_index()\n",
    "\n",
    "# Asegurar formato datetime en columna clave del pivot\n",
    "genero_pivot['ventana_30min'] = pd.to_datetime(genero_pivot['ventana_30min'])\n",
    "\n",
    "# Merge con df_base\n",
    "df_base = df_base.merge(genero_pivot,\n",
    "                        left_on=['ventana_30min', 'id_estacion'],\n",
    "                        right_on=['ventana_30min', 'id_estacion_destino'],\n",
    "                        how='left')\n",
    "\n",
    "# Limpiar columna auxiliar\n",
    "df_base = df_base.drop(columns=['id_estacion_destino'])\n",
    "\n",
    "# Rellenar con ceros donde no hubo usuarios de algún género\n",
    "for col in ['cant_male', 'cant_female', 'cant_other']:\n",
    "    if col not in df_base.columns:\n",
    "        df_base[col] = 0\n",
    "    else:\n",
    "        df_base[col] = df_base[col].fillna(0).astype(int)\n"
   ]
  },
  {
   "cell_type": "code",
   "execution_count": 44,
   "metadata": {},
   "outputs": [],
   "source": [
    "# Extraer latitud y longitud únicas por estación destino\n",
    "estaciones = df[['id_estacion_destino', 'lat_estacion_destino', 'long_estacion_destino']].drop_duplicates()\n",
    "\n",
    "# Renombrar columnas para el merge\n",
    "estaciones = estaciones.rename(columns={\n",
    "    'id_estacion_destino': 'id_estacion',\n",
    "    'lat_estacion_destino': 'latitud',\n",
    "    'long_estacion_destino': 'longitud'\n",
    "})\n",
    "\n",
    "# Unir con df_base por id_estacion\n",
    "df_base = df_base.merge(estaciones, on='id_estacion', how='left')"
   ]
  },
  {
   "cell_type": "code",
   "execution_count": 45,
   "metadata": {},
   "outputs": [],
   "source": [
    "# Asegurar que ventana_30min esté correctamente creada\n",
    "df['ventana_30min'] = pd.to_datetime(df['fecha_destino_recorrido']).dt.floor('30min')\n",
    "df_base['ventana_30min'] = pd.to_datetime(df_base['ventana_30min'])\n",
    "\n",
    "# Agrupar por ventana, estación destino y modelo de bicicleta\n",
    "conteo_modelo = df.groupby(['ventana_30min', 'id_estacion_destino', 'modelo_bicicleta']).size().reset_index(name='conteo')\n",
    "\n",
    "# Pivotear a columnas separadas por modelo\n",
    "modelo_pivot = conteo_modelo.pivot(index=['ventana_30min', 'id_estacion_destino'],\n",
    "                                   columns='modelo_bicicleta',\n",
    "                                   values='conteo').fillna(0).astype(int)\n",
    "\n",
    "# Renombrar columnas\n",
    "modelo_pivot = modelo_pivot.rename(columns={\n",
    "    'FIT': 'cant_fit',\n",
    "    'ICONIC': 'cant_iconic'\n",
    "}).reset_index()\n",
    "\n",
    "# Convertir ventana_30min a datetime si hiciera falta\n",
    "modelo_pivot['ventana_30min'] = pd.to_datetime(modelo_pivot['ventana_30min'])\n",
    "\n",
    "# Merge con df_base\n",
    "df_base = df_base.merge(modelo_pivot,\n",
    "                        left_on=['ventana_30min', 'id_estacion'],\n",
    "                        right_on=['ventana_30min', 'id_estacion_destino'],\n",
    "                        how='left')\n",
    "\n",
    "# Limpiar columna auxiliar\n",
    "df_base = df_base.drop(columns=['id_estacion_destino'])\n",
    "\n",
    "# Rellenar NaNs con ceros\n",
    "for col in ['cant_fit', 'cant_iconic']:\n",
    "    if col not in df_base.columns:\n",
    "        df_base[col] = 0\n",
    "    else:\n",
    "        df_base[col] = df_base[col].fillna(0).astype(int)\n"
   ]
  },
  {
   "cell_type": "code",
   "execution_count": 46,
   "metadata": {},
   "outputs": [
    {
     "name": "stdout",
     "output_type": "stream",
     "text": [
      "(4724761, 18)\n",
      "(8345736, 14)\n"
     ]
    }
   ],
   "source": [
    "print(df.shape)\n",
    "print(df_base.shape)"
   ]
  },
  {
   "cell_type": "code",
   "execution_count": 47,
   "metadata": {},
   "outputs": [
    {
     "data": {
      "image/png": "[encoded data removed]",
      "text/plain": [
       "<Figure size 1000x500 with 1 Axes>"
      ]
     },
     "metadata": {},
     "output_type": "display_data"
    }
   ],
   "source": [
    "horarios = (\n",
    "    df_base\n",
    "    .groupby(df_base['ventana_30min'].dt.strftime('%H:%M'))\n",
    "    .agg({'bicis_arriban': 'mean', 'partidas': 'mean'})\n",
    "    .reset_index()\n",
    "    .rename(columns={'ventana_30min': 'hora_str'})\n",
    ")\n",
    "\n",
    "# Escalar\n",
    "X = horarios[['bicis_arriban', 'partidas']]\n",
    "X_scaled = StandardScaler().fit_transform(X)\n",
    "\n",
    "# Clustering\n",
    "kmeans = KMeans(n_clusters=3, random_state=42)\n",
    "horarios['cluster'] = kmeans.fit_predict(X_scaled)\n",
    "\n",
    "# Gráfico\n",
    "plt.figure(figsize=(10, 5))\n",
    "plt.bar(horarios['hora_str'], horarios['bicis_arriban'], color=plt.cm.Set1(horarios['cluster']), alpha=0.7)\n",
    "plt.xticks(rotation=90)\n",
    "plt.ylabel(\"Bicis arribando (promedio)\")\n",
    "plt.xlabel(\"Horario (hh:mm)\")\n",
    "plt.title(\"Clustering de horarios por nivel de uso\")\n",
    "plt.grid(True)\n",
    "plt.tight_layout()\n",
    "plt.show()"
   ]
  },
  {
   "cell_type": "code",
   "execution_count": 48,
   "metadata": {},
   "outputs": [
    {
     "name": "stdout",
     "output_type": "stream",
     "text": [
      "\n",
      "Cluster 0:\n",
      "['08:00', '09:00', '10:00', '11:00', '12:00', '21:00', '22:00']\n",
      "\n",
      "Cluster 1:\n",
      "['13:00', '14:00', '15:00', '16:00', '17:00', '18:00', '19:00', '20:00']\n",
      "\n",
      "Cluster 2:\n",
      "['00:00', '01:00', '02:00', '03:00', '04:00', '05:00', '06:00', '07:00', '23:00']\n"
     ]
    }
   ],
   "source": [
    "# Ordenar por horario para mejor visualización\n",
    "horarios = horarios.sort_values('hora_str')\n",
    "\n",
    "# Imprimir los horarios agrupados por cluster\n",
    "for c in sorted(horarios['cluster'].unique()):\n",
    "    print(f\"\\nCluster {c}:\")\n",
    "    print(horarios[horarios['cluster'] == c]['hora_str'].tolist())"
   ]
  },
  {
   "cell_type": "code",
   "execution_count": 49,
   "metadata": {},
   "outputs": [],
   "source": [
    "nivel_por_hora = {\n",
    "    '08:00': 'medio', '09:00': 'medio', '10:00': 'medio', '11:00': 'medio', '12:00': 'medio',\n",
    "    '21:00': 'medio', '22:00': 'medio',\n",
    "    \n",
    "    '13:00': 'alto', '14:00': 'alto', '15:00': 'alto', '16:00': 'alto',\n",
    "    '17:00': 'alto', '18:00': 'alto', '19:00': 'alto', '20:00': 'alto',\n",
    "    \n",
    "    '00:00': 'bajo', '01:00': 'bajo', '02:00': 'bajo', '03:00': 'bajo',\n",
    "    '04:00': 'bajo', '05:00': 'bajo', '06:00': 'bajo', '07:00': 'bajo',\n",
    "    '23:00': 'bajo'\n",
    "}\n",
    "df_base['nivel_horario'] = df_base['ventana_30min'].apply(lambda dt: nivel_por_hora[dt.strftime('%H:00')])\n"
   ]
  },
  {
   "cell_type": "code",
   "execution_count": 50,
   "metadata": {},
   "outputs": [
    {
     "name": "stdout",
     "output_type": "stream",
     "text": [
      "(8345736, 15)\n"
     ]
    }
   ],
   "source": [
    "print(df_base.shape)"
   ]
  },
  {
   "cell_type": "code",
   "execution_count": 51,
   "metadata": {},
   "outputs": [],
   "source": [
    "df_base['es_finde'] = (df_base['ventana_30min'].dt.dayofweek >= 5).astype(int)"
   ]
  },
  {
   "cell_type": "code",
   "execution_count": 52,
   "metadata": {},
   "outputs": [
    {
     "name": "stdout",
     "output_type": "stream",
     "text": [
      "(8345736, 16)\n"
     ]
    }
   ],
   "source": [
    "print(df_base.shape)"
   ]
  },
  {
   "cell_type": "code",
   "execution_count": 53,
   "metadata": {},
   "outputs": [],
   "source": [
    "df_movimiento = df_base.groupby('id_estacion').agg({\n",
    "    'bicis_arriban': 'sum',\n",
    "    'partidas': 'sum'\n",
    "}).reset_index()\n",
    "\n",
    "# Calcular movimiento total\n",
    "df_movimiento['movimiento_total'] = df_movimiento['bicis_arriban'] + df_movimiento['partidas']"
   ]
  },
  {
   "cell_type": "code",
   "execution_count": 54,
   "metadata": {},
   "outputs": [],
   "source": [
    "df_estaciones = df_base.groupby('id_estacion')[['bicis_arriban']].sum().reset_index()"
   ]
  },
  {
   "cell_type": "code",
   "execution_count": 55,
   "metadata": {},
   "outputs": [
    {
     "data": {
      "image/png": "[encoded data removed]",
      "text/plain": [
       "<Figure size 800x500 with 1 Axes>"
      ]
     },
     "metadata": {},
     "output_type": "display_data"
    },
    {
     "name": "stdout",
     "output_type": "stream",
     "text": [
      "Valor óptimo de k: 3\n"
     ]
    }
   ],
   "source": [
    "X = df_estaciones[['bicis_arriban']].values\n",
    "\n",
    "inercia = []\n",
    "ks = range(1, 10)\n",
    "\n",
    "for k in ks:\n",
    "    kmeans = KMeans(n_clusters=k, random_state=42)\n",
    "    kmeans.fit(X)\n",
    "    inercia.append(kmeans.inertia_)\n",
    "\n",
    "# Codo automático\n",
    "x = np.array(list(ks))\n",
    "y = np.array(inercia)\n",
    "p1, p2 = np.array([x[0], y[0]]), np.array([x[-1], y[-1]])\n",
    "\n",
    "def distancia(p, a, b):\n",
    "    return np.abs(np.cross(b - a, a - p)) / np.linalg.norm(b - a)\n",
    "\n",
    "distancias = [distancia(np.array([x[i], y[i]]), p1, p2) for i in range(len(x))]\n",
    "k_optimo = x[np.argmax(distancias)]\n",
    "\n",
    "# Gráfico\n",
    "plt.figure(figsize=(8, 5))\n",
    "plt.plot(ks, inercia, marker='o', label='Inercia (SSE)')\n",
    "plt.plot(k_optimo, y[np.argmax(distancias)], 'ro', label=f'Codo óptimo: k = {k_optimo}')\n",
    "plt.title(\"Método del codo - Clustering por estación\")\n",
    "plt.xlabel(\"Número de clusters (k)\")\n",
    "plt.ylabel(\"Inercia\")\n",
    "plt.legend()\n",
    "plt.grid(True)\n",
    "plt.tight_layout()\n",
    "plt.show()\n",
    "\n",
    "print(f\"Valor óptimo de k: {k_optimo}\")\n",
    "\n",
    "kmeans = KMeans(n_clusters=k_optimo, random_state=42)\n",
    "df_estaciones['cluster'] = kmeans.fit_predict(X)\n",
    "\n",
    "# Obtener orden desde el centroide\n",
    "centros = kmeans.cluster_centers_.flatten()\n",
    "orden = centros.argsort()\n",
    "\n",
    "# Asignar etiquetas por orden\n",
    "etiquetas = {orden[0]: 'fantasma'}\n",
    "if len(orden) >= 3:\n",
    "    etiquetas[orden[1]] = 'moderada'\n",
    "    etiquetas[orden[2]] = 'central'\n",
    "elif len(orden) == 2:\n",
    "    etiquetas[orden[1]] = 'central'\n",
    "\n",
    "df_estaciones['tipo_estacion'] = df_estaciones['cluster'].map(etiquetas)\n",
    "\n"
   ]
  },
  {
   "cell_type": "code",
   "execution_count": 56,
   "metadata": {},
   "outputs": [],
   "source": [
    "df_base = df_base.merge(df_estaciones[['id_estacion', 'tipo_estacion']], on='id_estacion', how='left')"
   ]
  },
  {
   "cell_type": "code",
   "execution_count": 57,
   "metadata": {},
   "outputs": [
    {
     "name": "stdout",
     "output_type": "stream",
     "text": [
      "(8345736, 17)\n"
     ]
    }
   ],
   "source": [
    "print(df_base.shape)"
   ]
  },
  {
   "cell_type": "code",
   "execution_count": 58,
   "metadata": {},
   "outputs": [
    {
     "data": {
      "text/plain": [
       "tipo_estacion\n",
       "fantasma    209\n",
       "moderada    133\n",
       "central      41\n",
       "Name: count, dtype: int64"
      ]
     },
     "execution_count": 58,
     "metadata": {},
     "output_type": "execute_result"
    }
   ],
   "source": [
    "df_estaciones['tipo_estacion'].value_counts()"
   ]
  },
  {
   "cell_type": "code",
   "execution_count": 59,
   "metadata": {},
   "outputs": [
    {
     "name": "stdout",
     "output_type": "stream",
     "text": [
      "     id_estacion  bicis_arriban  partidas  movimiento_total\n",
      "197        289.0          37302     38440             75742\n",
      "89         131.0          34798     39324             74122\n",
      "36          54.0          35390     37334             72724\n",
      "342        515.0          34425     34701             69126\n",
      "174        254.0          32136     32046             64182\n"
     ]
    }
   ],
   "source": [
    "top_5 = df_movimiento.sort_values('movimiento_total', ascending=False).head(5)\n",
    "print(top_5)"
   ]
  },
  {
   "cell_type": "code",
   "execution_count": 60,
   "metadata": {},
   "outputs": [],
   "source": [
    "coord_map = df_base[['id_estacion', 'latitud', 'longitud']].drop_duplicates()\n",
    "df_estaciones = df_estaciones.merge(coord_map, on='id_estacion', how='left')"
   ]
  },
  {
   "cell_type": "code",
   "execution_count": 61,
   "metadata": {},
   "outputs": [
    {
     "name": "stdout",
     "output_type": "stream",
     "text": [
      "(8345736, 17)\n"
     ]
    }
   ],
   "source": [
    "print(df_base.shape)"
   ]
  },
  {
   "cell_type": "code",
   "execution_count": 62,
   "metadata": {},
   "outputs": [
    {
     "name": "stdout",
     "output_type": "stream",
     "text": [
      "Cantidad de filas después del merge: 8345736\n",
      "Columnas agregadas: ['distancia_central_1', 'distancia_central_2', 'distancia_central_3', 'distancia_central_4', 'distancia_central_5']\n"
     ]
    }
   ],
   "source": [
    "# IDs de las 5 estaciones con mayor movimiento\n",
    "top_5_ids = [289, 131, 54, 515, 254]\n",
    "\n",
    "# Asegurar tipo float en coordenadas\n",
    "df_estaciones['latitud'] = df_estaciones['latitud'].astype(float)\n",
    "df_estaciones['longitud'] = df_estaciones['longitud'].astype(float)\n",
    "\n",
    "# Obtener coordenadas únicas de las estaciones top\n",
    "top_5_coords = (\n",
    "    df_estaciones[df_estaciones['id_estacion'].isin(top_5_ids)]\n",
    "    .drop_duplicates(subset='id_estacion')\n",
    "    .set_index('id_estacion')[['latitud', 'longitud']]\n",
    ")\n",
    "top_5_coords.index = top_5_coords.index.astype(int)\n",
    "\n",
    "# Hacer copia y calcular distancias\n",
    "df_estaciones_dist = df_estaciones.copy()\n",
    "\n",
    "for i, ref_id in enumerate(top_5_ids, start=1):\n",
    "    lat_ref = float(top_5_coords.loc[ref_id, 'latitud'])\n",
    "    lon_ref = float(top_5_coords.loc[ref_id, 'longitud'])\n",
    "\n",
    "    df_estaciones_dist[f'distancia_central_{i}'] = np.sqrt(\n",
    "        (df_estaciones_dist['latitud'] - lat_ref) ** 2 +\n",
    "        (df_estaciones_dist['longitud'] - lon_ref) ** 2\n",
    "    )\n",
    "\n",
    "# Asegurarse de tener una fila única por estación antes del merge\n",
    "df_distancias_unicas = (\n",
    "    df_estaciones_dist\n",
    "    .drop_duplicates(subset='id_estacion')\n",
    "    [['id_estacion'] + [f'distancia_central_{i}' for i in range(1, 6)]]\n",
    ")\n",
    "\n",
    "# Merge al dataset base\n",
    "df_base = df_base.merge(\n",
    "    df_distancias_unicas,\n",
    "    on='id_estacion',\n",
    "    how='left'\n",
    ")\n",
    "\n",
    "# Confirmación final\n",
    "print(f\"Cantidad de filas después del merge: {df_base.shape[0]}\")\n",
    "print(\"Columnas agregadas:\", [f'distancia_central_{i}' for i in range(1, 6)])\n"
   ]
  },
  {
   "cell_type": "code",
   "execution_count": 63,
   "metadata": {},
   "outputs": [
    {
     "name": "stdout",
     "output_type": "stream",
     "text": [
      "(8345736, 22)\n"
     ]
    }
   ],
   "source": [
    "print(df_base.shape)"
   ]
  },
  {
   "cell_type": "code",
   "execution_count": 64,
   "metadata": {},
   "outputs": [],
   "source": [
    "df_base.to_csv('../data/handled/dataset.csv', index=False)"
   ]
  }
 ],
 "metadata": {
  "kernelspec": {
   "display_name": "base",
   "language": "python",
   "name": "python3"
  },
  "language_info": {
   "codemirror_mode": {
    "name": "ipython",
    "version": 3
   },
   "file_extension": ".py",
   "mimetype": "text/x-python",
   "name": "python",
   "nbconvert_exporter": "python",
   "pygments_lexer": "ipython3",
   "version": "3.12.4"
  }
 },
 "nbformat": 4,
 "nbformat_minor": 2
}
